{
 "cells": [
  {
   "cell_type": "code",
   "execution_count": 13,
   "id": "24e3d069",
   "metadata": {},
   "outputs": [],
   "source": [
    "principal = 100\n",
    "interest_rate = .01  # 1% p.m. (12% p.a.)\n",
    "monthly_payment = 20"
   ]
  },
  {
   "cell_type": "code",
   "execution_count": 34,
   "id": "aa29e3cb",
   "metadata": {},
   "outputs": [
    {
     "name": "stdout",
     "output_type": "stream",
     "text": [
      "19.00, 1.00, 81.00\n",
      "19.19, 0.81, 61.81\n",
      "19.38, 0.62, 42.43\n",
      "19.58, 0.42, 22.85\n",
      "19.77, 0.23, 3.08\n",
      "19.97, 0.03, -16.89\n",
      "loan paid in 6 months.\n"
     ]
    }
   ],
   "source": [
    "# in the beginning, balance equals principal\n",
    "balance = principal\n",
    "months_count = 0\n",
    "\n",
    "while balance > 0:\n",
    "  months_count += 1\n",
    "\n",
    "  # below is calculations for a single month\n",
    "  interest = balance * interest_rate\n",
    "  principal_paid = monthly_payment - interest\n",
    "  balance -= principal_paid\n",
    "  print(f'{principal_paid:.2f}, {interest:.2f}, {balance:.2f}')\n",
    "\n",
    "print(f'loan paid in {months_count} months.')"
   ]
  }
 ],
 "metadata": {
  "kernelspec": {
   "display_name": "Python 3",
   "language": "python",
   "name": "python3"
  },
  "language_info": {
   "codemirror_mode": {
    "name": "ipython",
    "version": 3
   },
   "file_extension": ".py",
   "mimetype": "text/x-python",
   "name": "python",
   "nbconvert_exporter": "python",
   "pygments_lexer": "ipython3",
   "version": "3.13.3"
  }
 },
 "nbformat": 4,
 "nbformat_minor": 5
}
