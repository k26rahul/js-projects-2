{
 "cells": [
  {
   "cell_type": "code",
   "execution_count": 1,
   "id": "04bb95bd",
   "metadata": {},
   "outputs": [],
   "source": [
    "import os\n",
    "import json"
   ]
  },
  {
   "cell_type": "code",
   "execution_count": 2,
   "id": "31aff4ed",
   "metadata": {},
   "outputs": [],
   "source": [
    "def find_html_files(root_dir):\n",
    "  html_files = []\n",
    "  for dirpath, _, filenames in os.walk(root_dir):\n",
    "    for filename in filenames:\n",
    "      if filename.lower().endswith(\".html\"):\n",
    "        rel = os.path.relpath(os.path.join(dirpath, filename), root_dir)\n",
    "        html_files.append(rel.replace(\"\\\\\", \"/\"))\n",
    "\n",
    "  return sorted(html_files, key=str.lower)"
   ]
  },
  {
   "cell_type": "code",
   "execution_count": 3,
   "id": "4f8985e8",
   "metadata": {},
   "outputs": [
    {
     "name": "stdout",
     "output_type": "stream",
     "text": [
      "Found 8 html files. Saved to pages.json.\n"
     ]
    }
   ],
   "source": [
    "root = \".\"\n",
    "files = find_html_files(root)\n",
    "with open(\"pages.json\", \"w\", encoding=\"utf-8\") as f:\n",
    "  json.dump(files, f, indent=2)\n",
    "print(f\"Found {len(files)} html files. Saved to pages.json.\")"
   ]
  }
 ],
 "metadata": {
  "kernelspec": {
   "display_name": "Python 3",
   "language": "python",
   "name": "python3"
  },
  "language_info": {
   "codemirror_mode": {
    "name": "ipython",
    "version": 3
   },
   "file_extension": ".py",
   "mimetype": "text/x-python",
   "name": "python",
   "nbconvert_exporter": "python",
   "pygments_lexer": "ipython3",
   "version": "3.13.3"
  }
 },
 "nbformat": 4,
 "nbformat_minor": 5
}
