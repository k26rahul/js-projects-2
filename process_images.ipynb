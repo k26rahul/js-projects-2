{
 "cells": [
  {
   "cell_type": "code",
   "execution_count": 13,
   "id": "e1b90303",
   "metadata": {},
   "outputs": [],
   "source": [
    "from PIL import Image\n",
    "import os\n",
    "import shutil"
   ]
  },
  {
   "cell_type": "code",
   "execution_count": 14,
   "id": "1b5732f2",
   "metadata": {},
   "outputs": [],
   "source": [
    "def crop_images_to_4by3(input_folder, output_folder):\n",
    "  os.makedirs(output_folder, exist_ok=True)\n",
    "\n",
    "  for filename in os.listdir(input_folder):\n",
    "    if filename.lower().endswith(('.png', '.jpg', '.jpeg')):\n",
    "      img_path = os.path.join(input_folder, filename)\n",
    "      img = Image.open(img_path)\n",
    "\n",
    "      width, height = img.size\n",
    "      new_height = int(width * 3 / 4)  # 4:3 aspect ratio\n",
    "\n",
    "      # Skip if image too short or already 4:3\n",
    "      if new_height >= height:\n",
    "        print(f\"Skipping {filename}: cannot crop ({width}x{height})\")\n",
    "        continue\n",
    "\n",
    "      img_cropped = img.crop((0, 0, width, new_height))\n",
    "      output_path = os.path.join(output_folder, filename)\n",
    "      img_cropped.save(output_path)\n",
    "\n",
    "      print(f\"Processed {filename}: {width}x{height} → {width}x{new_height}\")\n",
    "\n",
    "  print(\"All images processed!\")"
   ]
  },
  {
   "cell_type": "code",
   "execution_count": 15,
   "id": "a03fe02e",
   "metadata": {},
   "outputs": [],
   "source": [
    "def resize_images_by_width(input_folder, output_folder, width):\n",
    "  os.makedirs(output_folder, exist_ok=True)\n",
    "\n",
    "  for filename in os.listdir(input_folder):\n",
    "    if filename.lower().endswith(('.png', '.jpg', '.jpeg')):\n",
    "      img_path = os.path.join(input_folder, filename)\n",
    "      img = Image.open(img_path)\n",
    "\n",
    "      orig_width, orig_height = img.size\n",
    "      if orig_width <= width:\n",
    "        print(f\"Skipping {filename}: already ≤ target width ({orig_width}px)\")\n",
    "        continue\n",
    "\n",
    "      # Preserve aspect ratio\n",
    "      new_height = int((width / orig_width) * orig_height)\n",
    "      img_resized = img.resize((width, new_height), Image.LANCZOS)\n",
    "\n",
    "      output_path = os.path.join(output_folder, filename)\n",
    "      img_resized.save(output_path, optimize=True, quality=85)\n",
    "\n",
    "      # File sizes in KB\n",
    "      orig_size_kb = os.path.getsize(img_path) / 1024\n",
    "      new_size_kb = os.path.getsize(output_path) / 1024\n",
    "\n",
    "      print(f\"Processed {filename}: {orig_width}x{orig_height} → {width}x{new_height}, \"\n",
    "            f\"{orig_size_kb:.1f}KB → {new_size_kb:.1f}KB\")\n",
    "\n",
    "  print(\"All images processed!\")"
   ]
  },
  {
   "cell_type": "code",
   "execution_count": 16,
   "id": "6054df68",
   "metadata": {},
   "outputs": [],
   "source": [
    "def move_and_overwrite(src_folder, dest_folder):\n",
    "  os.makedirs(dest_folder, exist_ok=True)\n",
    "\n",
    "  for filename in os.listdir(src_folder):\n",
    "    src_path = os.path.join(src_folder, filename)\n",
    "    dest_path = os.path.join(dest_folder, filename)\n",
    "\n",
    "    if os.path.isfile(src_path):\n",
    "      shutil.move(src_path, dest_path)  # overwrites automatically\n",
    "      print(f\"Moved {filename} → {dest_folder}\")\n",
    "\n",
    "  print(\"All files moved and originals overwritten!\")"
   ]
  },
  {
   "cell_type": "code",
   "execution_count": 17,
   "id": "8c2edc64",
   "metadata": {},
   "outputs": [],
   "source": [
    "def process_images():\n",
    "  input_folder = './screenshots'\n",
    "  temp_folder = './processed_screenshots'\n",
    "  target_width = 400\n",
    "\n",
    "  print(\"=== Step 1: Cropping images to 4:3 ===\")\n",
    "  crop_images_to_4by3(input_folder, temp_folder)\n",
    "\n",
    "  print(\"\\n=== Step 2: Resizing images ===\")\n",
    "  resize_images_by_width(temp_folder, temp_folder, target_width)\n",
    "\n",
    "  print(\"\\n=== Step 3: Moving processed images back ===\")\n",
    "  move_and_overwrite(temp_folder, input_folder)\n",
    "\n",
    "  if os.path.exists(temp_folder):\n",
    "    shutil.rmtree(temp_folder)\n",
    "    print(f\"\\n🧹 Deleted temporary folder: {temp_folder}\")\n",
    "\n",
    "  print(\"\\n✅ All steps completed successfully!\")"
   ]
  },
  {
   "cell_type": "code",
   "execution_count": 18,
   "id": "2c5ca78d",
   "metadata": {},
   "outputs": [
    {
     "name": "stdout",
     "output_type": "stream",
     "text": [
      "=== Step 1: Cropping images to 4:3 ===\n",
      "Skipping array-methods.jpg: cannot crop (400x299)\n",
      "Skipping calculator.jpg: cannot crop (400x299)\n",
      "Skipping cgpa-calculator-2.jpg: cannot crop (400x299)\n",
      "Skipping cgpa-calculator.jpg: cannot crop (400x299)\n",
      "Skipping flexbox-demo.jpg: cannot crop (400x299)\n",
      "Skipping image-search-app-2.jpg: cannot crop (400x300)\n",
      "Skipping image-search-app.jpg: cannot crop (400x299)\n",
      "Skipping js-projects-2.jpg: cannot crop (400x225)\n",
      "Skipping rem-vs-px.jpg: cannot crop (400x299)\n",
      "Skipping testimonials.jpg: cannot crop (400x299)\n",
      "Skipping wa-layout.jpg: cannot crop (400x299)\n",
      "All images processed!\n",
      "\n",
      "=== Step 2: Resizing images ===\n",
      "All images processed!\n",
      "\n",
      "=== Step 3: Moving processed images back ===\n",
      "All files moved and originals overwritten!\n",
      "\n",
      "🧹 Deleted temporary folder: ./processed_screenshots\n",
      "\n",
      "✅ All steps completed successfully!\n"
     ]
    }
   ],
   "source": [
    "process_images()"
   ]
  }
 ],
 "metadata": {
  "kernelspec": {
   "display_name": "Python 3",
   "language": "python",
   "name": "python3"
  },
  "language_info": {
   "codemirror_mode": {
    "name": "ipython",
    "version": 3
   },
   "file_extension": ".py",
   "mimetype": "text/x-python",
   "name": "python",
   "nbconvert_exporter": "python",
   "pygments_lexer": "ipython3",
   "version": "3.13.3"
  }
 },
 "nbformat": 4,
 "nbformat_minor": 5
}
