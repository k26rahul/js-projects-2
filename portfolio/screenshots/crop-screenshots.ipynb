{
 "cells": [
  {
   "cell_type": "code",
   "execution_count": 2,
   "id": "29cad875",
   "metadata": {},
   "outputs": [],
   "source": [
    "from PIL import Image\n",
    "import os"
   ]
  },
  {
   "cell_type": "code",
   "execution_count": 3,
   "id": "516b3fba",
   "metadata": {},
   "outputs": [],
   "source": [
    "input_folder = \".\"\n",
    "output_folder = \"cropped_screenshots\""
   ]
  },
  {
   "cell_type": "code",
   "execution_count": 4,
   "id": "61e8eee3",
   "metadata": {},
   "outputs": [],
   "source": [
    "os.makedirs(output_folder, exist_ok=True)"
   ]
  },
  {
   "cell_type": "code",
   "execution_count": null,
   "id": "21a9d9cc",
   "metadata": {},
   "outputs": [
    {
     "name": "stdout",
     "output_type": "stream",
     "text": [
      "All images processed!\n"
     ]
    }
   ],
   "source": [
    "for filename in os.listdir(input_folder):\n",
    "  if filename.lower().endswith(('.png', '.jpg', '.jpeg')):\n",
    "    img_path = os.path.join(input_folder, filename)\n",
    "    img = Image.open(img_path)\n",
    "\n",
    "    width, height = img.size\n",
    "    # Calculate the new height for 4:3 aspect ratio\n",
    "    new_height = int(width * 3 / 4)\n",
    "\n",
    "    if new_height > height:\n",
    "      # If image is too short to achieve 4:3, skip or handle differently\n",
    "      print(f\"Skipping {filename}, image too short for 4:3 crop\")\n",
    "      continue\n",
    "\n",
    "    # Crop from the top\n",
    "    img_cropped = img.crop((0, 0, width, new_height))\n",
    "\n",
    "    # Save new image\n",
    "    output_path = os.path.join(output_folder, filename)\n",
    "    img_cropped.save(output_path)\n",
    "\n",
    "print(\"All images processed!\")"
   ]
  }
 ],
 "metadata": {
  "kernelspec": {
   "display_name": "Python 3",
   "language": "python",
   "name": "python3"
  },
  "language_info": {
   "codemirror_mode": {
    "name": "ipython",
    "version": 3
   },
   "file_extension": ".py",
   "mimetype": "text/x-python",
   "name": "python",
   "nbconvert_exporter": "python",
   "pygments_lexer": "ipython3",
   "version": "3.13.3"
  }
 },
 "nbformat": 4,
 "nbformat_minor": 5
}
