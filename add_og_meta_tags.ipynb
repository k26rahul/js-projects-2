{
 "cells": [
  {
   "cell_type": "code",
   "execution_count": 1,
   "id": "fe816bc9",
   "metadata": {},
   "outputs": [],
   "source": [
    "import os\n",
    "import json\n",
    "import re"
   ]
  },
  {
   "cell_type": "code",
   "execution_count": 2,
   "id": "5f993eef",
   "metadata": {},
   "outputs": [],
   "source": [
    "def add_og_meta_tags(json_file_path, project_root, modify_files=False):\n",
    "  \"\"\"\n",
    "  Reads the project JSON file and injects OG meta tags into each project's index.html\n",
    "  immediately after the <title> tag. Preserves original formatting.\n",
    "\n",
    "  If `modify_files` is False (default), does NOT overwrite index.html files, \n",
    "  but dumps a preview of all changes into 'og_meta_preview.txt' in the script folder.\n",
    "  Skips files that already contain any <meta property=\"og:title\" ... /> tag.\n",
    "  \"\"\"\n",
    "  # Load project data\n",
    "  with open(json_file_path, 'r', encoding='utf-8') as f:\n",
    "    projects = json.load(f)\n",
    "\n",
    "  # Preview output file path\n",
    "  preview_file_path = os.path.join(os.getcwd(), \"og_meta_preview.txt\")\n",
    "  with open(preview_file_path, 'w', encoding='utf-8') as preview_file:\n",
    "    for project in projects:\n",
    "      slug = project.get(\"slug\")\n",
    "      title = project.get(\"title\")\n",
    "      description = project.get(\"description\")\n",
    "      og_image_url = f\"https://k26rahul.github.io/js-projects-2/{slug}/screenshot.jpg\"\n",
    "\n",
    "      index_path = os.path.join(project_root, slug, \"index.html\")\n",
    "      if not os.path.isfile(index_path):\n",
    "        print(f\"Skipping {slug}: index.html not found\")\n",
    "        continue\n",
    "\n",
    "      with open(index_path, 'r', encoding='utf-8') as f:\n",
    "        content = f.read()\n",
    "\n",
    "      # Skip if any OG title meta tag exists\n",
    "      if re.search(r'<meta\\s+property=[\"\\']og:title[\"\\']', content, re.IGNORECASE):\n",
    "        print(f\"Skipping {slug}: OG meta title already exists\")\n",
    "        continue\n",
    "\n",
    "      # Regex to find <title>...</title> (non-greedy)\n",
    "      title_match = re.search(r'(<title>.*?</title>)', content, re.IGNORECASE | re.DOTALL)\n",
    "      if not title_match:\n",
    "        print(f\"Skipping {slug}: <title> tag not found\")\n",
    "        continue\n",
    "\n",
    "      title_tag = title_match.group(1)\n",
    "\n",
    "      # OG meta tags to insert\n",
    "      og_tags = (\n",
    "          '\\n'\n",
    "          f'\\n    <meta property=\"og:title\" content=\"{title}\" />'\n",
    "          f'\\n    <meta property=\"og:description\" content=\"{description}\" />'\n",
    "          f'\\n    <meta property=\"og:image\" content=\"{og_image_url}\" />'\n",
    "          '\\n'\n",
    "      )\n",
    "\n",
    "      # Insert after <title>\n",
    "      new_content = content.replace(title_tag, title_tag + og_tags, 1)\n",
    "\n",
    "      if modify_files:\n",
    "        # Overwrite the original index.html\n",
    "        with open(index_path, 'w', encoding='utf-8') as f:\n",
    "          f.write(new_content)\n",
    "        print(f\"OG meta tags added to {slug}/index.html\")\n",
    "      else:\n",
    "        # Dump preview to the preview file\n",
    "        preview_file.write(f\"--- Preview for {slug}/index.html ---\\n\")\n",
    "        preview_file.write(new_content)\n",
    "        preview_file.write(\"\\n\\n\")\n",
    "        print(f\"Preview generated for {slug}/index.html\")\n",
    "\n",
    "  if not modify_files:\n",
    "    print(f\"\\nPreview of all changes written to: {preview_file_path}\")"
   ]
  },
  {
   "cell_type": "code",
   "execution_count": 3,
   "id": "f2e0667f",
   "metadata": {},
   "outputs": [
    {
     "name": "stdout",
     "output_type": "stream",
     "text": [
      "Skipping array-methods: OG meta title already exists\n",
      "Skipping calculator: OG meta title already exists\n",
      "Skipping cgpa-calculator: OG meta title already exists\n",
      "Skipping cgpa-calculator-2: OG meta title already exists\n",
      "Skipping flexbox-demo: OG meta title already exists\n",
      "Skipping image-search-app: OG meta title already exists\n",
      "Skipping image-search-app-2: OG meta title already exists\n",
      "Skipping rem-vs-px: OG meta title already exists\n",
      "Skipping testimonials: OG meta title already exists\n",
      "Skipping wa-layout: OG meta title already exists\n"
     ]
    }
   ],
   "source": [
    "add_og_meta_tags(\n",
    "    json_file_path=\"./projects_data.json\",\n",
    "    project_root=\".\",\n",
    "    modify_files=True\n",
    ")"
   ]
  }
 ],
 "metadata": {
  "kernelspec": {
   "display_name": "Python 3",
   "language": "python",
   "name": "python3"
  },
  "language_info": {
   "codemirror_mode": {
    "name": "ipython",
    "version": 3
   },
   "file_extension": ".py",
   "mimetype": "text/x-python",
   "name": "python",
   "nbconvert_exporter": "python",
   "pygments_lexer": "ipython3",
   "version": "3.13.3"
  }
 },
 "nbformat": 4,
 "nbformat_minor": 5
}
