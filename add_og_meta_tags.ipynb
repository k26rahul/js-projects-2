{
 "cells": [
  {
   "cell_type": "code",
   "execution_count": 19,
   "id": "fe816bc9",
   "metadata": {},
   "outputs": [],
   "source": [
    "import os\n",
    "import json\n",
    "import re"
   ]
  },
  {
   "cell_type": "code",
   "execution_count": 20,
   "id": "5f993eef",
   "metadata": {},
   "outputs": [],
   "source": [
    "def add_og_meta_tags(json_file_path, project_root):\n",
    "  \"\"\"\n",
    "  Reads the project JSON file and injects OG meta tags into each project's index.html\n",
    "  immediately after the <title> tag. Preserves original formatting.\n",
    "  Skips files that already contain an 'og:title' meta tag.\n",
    "  \"\"\"\n",
    "  # Load project data\n",
    "  with open(json_file_path, 'r', encoding='utf-8') as f:\n",
    "    projects = json.load(f)\n",
    "\n",
    "  for project in projects:\n",
    "    slug = project.get(\"slug\")\n",
    "    title = project.get(\"title\")\n",
    "    description = project.get(\"description\")\n",
    "    og_image_url = f\"https://k26rahul.github.io/js-projects-2/assets/screenshots/{slug}.jpg\"\n",
    "\n",
    "    index_path = os.path.join(project_root, slug, \"index.html\")\n",
    "    if not os.path.isfile(index_path):\n",
    "      print(f\"Skipping {slug}: index.html not found\")\n",
    "      continue\n",
    "\n",
    "    with open(index_path, 'r', encoding='utf-8') as f:\n",
    "      content = f.read()\n",
    "\n",
    "    # Skip if OG tags already exist globally\n",
    "    if re.search(r'property\\s*=\\s*[\"\\']og:title[\"\\']', content, re.IGNORECASE):\n",
    "      print(f\"Skipping {slug}: OG meta tags already exist\")\n",
    "      continue\n",
    "\n",
    "    # Regex to find <title>...</title> (non-greedy)\n",
    "    title_match = re.search(r'(<title>.*?</title>)', content, re.IGNORECASE | re.DOTALL)\n",
    "    if not title_match:\n",
    "      print(f\"Skipping {slug}: <title> tag not found\")\n",
    "      continue\n",
    "\n",
    "    title_tag = title_match.group(1)\n",
    "\n",
    "    # OG meta tags to insert (preserve line breaks for readability)\n",
    "    og_tags = (\n",
    "        f'\\n    <meta property=\"og:title\" content=\"{title}\" />'\n",
    "        f'\\n    <meta property=\"og:description\" content=\"{description}\" />'\n",
    "        f'\\n    <meta property=\"og:image\" content=\"{og_image_url}\" />\\n'\n",
    "    )\n",
    "\n",
    "    # Insert after <title>\n",
    "    new_content = content.replace(title_tag, title_tag + og_tags, 1)\n",
    "\n",
    "    # Write back to the same index.html\n",
    "    with open(index_path, 'w', encoding='utf-8') as f:\n",
    "      f.write(new_content)\n",
    "\n",
    "    print(f\"OG meta tags added to {slug}/index.html\")"
   ]
  },
  {
   "cell_type": "code",
   "execution_count": 21,
   "id": "f2e0667f",
   "metadata": {},
   "outputs": [
    {
     "name": "stdout",
     "output_type": "stream",
     "text": [
      "Skipping array-methods: OG meta tags already exist\n",
      "Skipping calculator: OG meta tags already exist\n",
      "Skipping cgpa-calculator: OG meta tags already exist\n",
      "Skipping cgpa-calculator-2: OG meta tags already exist\n",
      "Skipping flexbox-demo: OG meta tags already exist\n",
      "Skipping image-search-app: OG meta tags already exist\n",
      "Skipping image-search-app-2: OG meta tags already exist\n",
      "Skipping rem-vs-px: OG meta tags already exist\n",
      "Skipping testimonials: OG meta tags already exist\n",
      "Skipping wa-layout: OG meta tags already exist\n"
     ]
    }
   ],
   "source": [
    "add_og_meta_tags(\"./projects_data.json\", \".\")"
   ]
  }
 ],
 "metadata": {
  "kernelspec": {
   "display_name": "Python 3",
   "language": "python",
   "name": "python3"
  },
  "language_info": {
   "codemirror_mode": {
    "name": "ipython",
    "version": 3
   },
   "file_extension": ".py",
   "mimetype": "text/x-python",
   "name": "python",
   "nbconvert_exporter": "python",
   "pygments_lexer": "ipython3",
   "version": "3.13.3"
  }
 },
 "nbformat": 4,
 "nbformat_minor": 5
}
