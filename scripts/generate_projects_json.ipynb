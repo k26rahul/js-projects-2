{
 "cells": [
  {
   "cell_type": "code",
   "execution_count": 3,
   "id": "25e1795b",
   "metadata": {},
   "outputs": [],
   "source": [
    "import os\n",
    "import json\n",
    "from bs4 import BeautifulSoup\n",
    "from datetime import datetime"
   ]
  },
  {
   "cell_type": "code",
   "execution_count": 4,
   "id": "ebea6017",
   "metadata": {},
   "outputs": [],
   "source": [
    "import os\n",
    "import json\n",
    "from bs4 import BeautifulSoup\n",
    "from datetime import datetime\n",
    "\n",
    "\n",
    "def generate_projects_json(project_root, output_path, overwrite=False):\n",
    "  \"\"\"\n",
    "  Scans subfolders in the given project_root for index.html files and\n",
    "  generates project data JSON:\n",
    "      - slug: folder name\n",
    "      - title: from meta og:title\n",
    "      - description: from meta og:description\n",
    "      - meta: dictionary of all meta tags with name=\"project:<property>\"\n",
    "      - created: ISO 8601 formatted creation time of index.html\n",
    "\n",
    "  The array is sorted by creation time before output.\n",
    "\n",
    "  If overwrite=True, writes to path given in `output_path`. Otherwise, prints to console.\n",
    "\n",
    "  Any subfolder containing a file named `EXCLUDED_FROM_PROJECTS` will be ignored.\n",
    "  \"\"\"\n",
    "  projects = []\n",
    "\n",
    "  for folder_name in os.listdir(project_root):\n",
    "    folder_path = os.path.join(project_root, folder_name)\n",
    "    index_path = os.path.join(folder_path, \"index.html\")\n",
    "    exclude_marker = os.path.join(folder_path, \"EXCLUDED_FROM_PROJECTS\")\n",
    "\n",
    "    # Skip if not a directory or missing index.html\n",
    "    if not os.path.isdir(folder_path) or not os.path.isfile(index_path):\n",
    "      continue\n",
    "\n",
    "    # Skip directory if exclusion marker is present\n",
    "    if os.path.isfile(exclude_marker):\n",
    "      print(f\"🚫 skipping {folder_name}: found EXCLUDED_FROM_PROJECTS\")\n",
    "      continue\n",
    "\n",
    "    # Parse HTML\n",
    "    with open(index_path, \"r\", encoding=\"utf-8\") as f:\n",
    "      soup = BeautifulSoup(f, \"html.parser\")\n",
    "\n",
    "    title_meta = soup.find(\"meta\", property=\"og:title\")\n",
    "    desc_meta = soup.find(\"meta\", property=\"og:description\")\n",
    "\n",
    "    if not title_meta or not desc_meta:\n",
    "      print(f\"⚠️  skipping {folder_name}: missing og:title or og:description\")\n",
    "      continue\n",
    "\n",
    "    # Collect meta tags starting with name=\"project:\"\n",
    "    meta_tags = {}\n",
    "    for meta in soup.find_all(\"meta\", attrs={\"name\": True}):\n",
    "      name_attr = meta[\"name\"].strip()\n",
    "      if name_attr.startswith(\"project:\"):\n",
    "        key = name_attr[len(\"project:\"):].strip()\n",
    "        meta_tags[key] = meta.get(\"content\", \"\").strip()\n",
    "\n",
    "    created_iso = datetime.fromtimestamp(os.path.getctime(index_path)).isoformat()\n",
    "\n",
    "    project_data = {\n",
    "        \"title\": title_meta.get(\"content\", \"\").strip(),\n",
    "        \"description\": desc_meta.get(\"content\", \"\").strip(),\n",
    "        \"slug\": folder_name,\n",
    "        \"meta\": meta_tags,\n",
    "        \"created\": created_iso\n",
    "    }\n",
    "\n",
    "    projects.append(project_data)\n",
    "\n",
    "  # Sort by creation time, newest first\n",
    "  projects.sort(key=lambda x: x[\"created\"], reverse=True)\n",
    "\n",
    "  if overwrite:\n",
    "    with open(output_path, \"w\", encoding=\"utf-8\") as f:\n",
    "      json.dump(projects, f, indent=2)\n",
    "    print(f\"✅ generated {output_path} with {len(projects)} projects.\")\n",
    "  else:\n",
    "    print(json.dumps(projects, indent=2))"
   ]
  },
  {
   "cell_type": "code",
   "execution_count": 5,
   "id": "23c6cbaf",
   "metadata": {},
   "outputs": [
    {
     "name": "stdout",
     "output_type": "stream",
     "text": [
      "🚫 skipping practice: found EXCLUDED_FROM_PROJECTS\n",
      "✅ generated ../assets/projects_data.json with 12 projects.\n"
     ]
    }
   ],
   "source": [
    "generate_projects_json(\n",
    "    project_root='../',\n",
    "    output_path=\"../assets/projects_data.json\",\n",
    "    overwrite=True\n",
    ")"
   ]
  }
 ],
 "metadata": {
  "kernelspec": {
   "display_name": "Python 3",
   "language": "python",
   "name": "python3"
  },
  "language_info": {
   "codemirror_mode": {
    "name": "ipython",
    "version": 3
   },
   "file_extension": ".py",
   "mimetype": "text/x-python",
   "name": "python",
   "nbconvert_exporter": "python",
   "pygments_lexer": "ipython3",
   "version": "3.13.3"
  }
 },
 "nbformat": 4,
 "nbformat_minor": 5
}
