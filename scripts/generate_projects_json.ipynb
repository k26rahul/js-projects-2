{
 "cells": [
  {
   "cell_type": "code",
   "execution_count": 7,
   "id": "25e1795b",
   "metadata": {},
   "outputs": [],
   "source": [
    "import os\n",
    "import json\n",
    "from bs4 import BeautifulSoup\n",
    "from datetime import datetime"
   ]
  },
  {
   "cell_type": "code",
   "execution_count": 8,
   "id": "ebea6017",
   "metadata": {},
   "outputs": [],
   "source": [
    "def generate_projects_json(project_root, output_path, overwrite=False):\n",
    "  \"\"\"\n",
    "  scans subfolders in the given project_root for index.html files and\n",
    "  generates project data json:\n",
    "      - slug: folder name\n",
    "      - title: from meta og:title\n",
    "      - description: from meta og:description\n",
    "      - meta: dictionary of all meta tags with name=\"project:<property>\"\n",
    "      - created: iso 8601 formatted creation time of index.html\n",
    "\n",
    "  the array is sorted by creation time before output.\n",
    "\n",
    "  if overwrite=true, writes to path given in `output_path`. otherwise, prints to console.\n",
    "  \"\"\"\n",
    "  projects = []\n",
    "\n",
    "  # scan project_root for subfolders containing index.html\n",
    "  for folder_name in os.listdir(project_root):\n",
    "    folder_path = os.path.join(project_root, folder_name)\n",
    "    index_path = os.path.join(folder_path, \"index.html\")\n",
    "\n",
    "    if not os.path.isdir(folder_path) or not os.path.isfile(index_path):\n",
    "      continue\n",
    "\n",
    "    f = open(index_path, \"r\", encoding=\"utf-8\")\n",
    "    soup = BeautifulSoup(f, \"html.parser\")\n",
    "    f.close()\n",
    "\n",
    "    title_meta = soup.find(\"meta\", property=\"og:title\")\n",
    "    desc_meta = soup.find(\"meta\", property=\"og:description\")\n",
    "\n",
    "    if not title_meta or not desc_meta:\n",
    "      print(f\"skipping {folder_name}: missing og:title or og:description\")\n",
    "      continue\n",
    "\n",
    "    # collect meta tags starting with name=\"project:\"\n",
    "    meta_tags = {}\n",
    "    for meta in soup.find_all(\"meta\", attrs={\"name\": True}):\n",
    "      name_attr = meta[\"name\"].strip()\n",
    "      if name_attr.startswith(\"project:\"):\n",
    "        key = name_attr[len(\"project:\"):].strip()\n",
    "        meta_tags[key] = meta.get(\"content\", \"\").strip()\n",
    "\n",
    "    # get creation time in iso format\n",
    "    created_iso = datetime.fromtimestamp(os.path.getctime(index_path)).isoformat()\n",
    "\n",
    "    project_data = {\n",
    "        \"title\": title_meta.get(\"content\", \"\").strip(),\n",
    "        \"description\": desc_meta.get(\"content\", \"\").strip(),\n",
    "        \"slug\": folder_name,\n",
    "        \"meta\": meta_tags,\n",
    "        \"created\": created_iso\n",
    "    }\n",
    "\n",
    "    projects.append(project_data)\n",
    "\n",
    "  # sort by creation time, newest first\n",
    "  projects.sort(key=lambda x: x[\"created\"], reverse=True)\n",
    "\n",
    "  if overwrite:\n",
    "    f = open(output_path, \"w\", encoding=\"utf-8\")\n",
    "    json.dump(projects, f, indent=2)\n",
    "    f.close()\n",
    "    print(f\"✅ generated {output_path} with {len(projects)} projects.\")\n",
    "  else:\n",
    "    print(json.dumps(projects, indent=2))"
   ]
  },
  {
   "cell_type": "code",
   "execution_count": 10,
   "id": "23c6cbaf",
   "metadata": {},
   "outputs": [
    {
     "name": "stdout",
     "output_type": "stream",
     "text": [
      "✅ generated ../assets/projects_data.json with 12 projects.\n"
     ]
    }
   ],
   "source": [
    "generate_projects_json(\n",
    "    project_root='../',\n",
    "    output_path=\"../assets/projects_data.json\",\n",
    "    overwrite=True\n",
    ")"
   ]
  }
 ],
 "metadata": {
  "kernelspec": {
   "display_name": "Python 3",
   "language": "python",
   "name": "python3"
  },
  "language_info": {
   "codemirror_mode": {
    "name": "ipython",
    "version": 3
   },
   "file_extension": ".py",
   "mimetype": "text/x-python",
   "name": "python",
   "nbconvert_exporter": "python",
   "pygments_lexer": "ipython3",
   "version": "3.13.3"
  }
 },
 "nbformat": 4,
 "nbformat_minor": 5
}
