{
 "cells": [
  {
   "cell_type": "code",
   "execution_count": 12,
   "id": "fe816bc9",
   "metadata": {},
   "outputs": [],
   "source": [
    "import os\n",
    "import json\n",
    "import re"
   ]
  },
  {
   "cell_type": "code",
   "execution_count": 13,
   "id": "5f993eef",
   "metadata": {},
   "outputs": [],
   "source": [
    "def add_og_meta_tags(json_file_path, project_root, modify_files=False):\n",
    "  \"\"\"\n",
    "  reads the project json file and injects og meta tags into each project's index.html\n",
    "  immediately after the <title> tag. preserves original formatting.\n",
    "\n",
    "  if `modify_files` is false (default), does not overwrite index.html files,\n",
    "  but dumps a preview of all changes into 'og_meta_preview.txt' in the script folder.\n",
    "  skips files that already contain any <meta property=\"og:title\" ... /> tag.\n",
    "  \"\"\"\n",
    "\n",
    "  # load project data\n",
    "  f = open(json_file_path, 'r', encoding='utf-8')\n",
    "  projects = json.load(f)\n",
    "  f.close()\n",
    "\n",
    "  preview_content = []\n",
    "\n",
    "  for project in projects:\n",
    "    slug = project.get(\"slug\")\n",
    "    title = project.get(\"title\")\n",
    "    description = project.get(\"description\")\n",
    "    og_image_url = f\"https://k26rahul.github.io/js-projects-2/{slug}/screenshot.jpg\"\n",
    "\n",
    "    index_path = os.path.join(project_root, slug, \"index.html\")\n",
    "    if not os.path.isfile(index_path):\n",
    "      print(f\"skipping {slug}: index.html not found\")\n",
    "      continue\n",
    "\n",
    "    f = open(index_path, 'r', encoding='utf-8')\n",
    "    content = f.read()\n",
    "    f.close()\n",
    "\n",
    "    # skip if any og:title meta tag already exists\n",
    "    if re.search(r'<meta\\s+property=[\"\\']og:title[\"\\']', content, re.IGNORECASE):\n",
    "      print(f\"skipping {slug}: og meta title already exists\")\n",
    "      continue\n",
    "\n",
    "    # find <title>...</title>\n",
    "    title_match = re.search(r'(<title>.*?</title>)', content, re.IGNORECASE | re.DOTALL)\n",
    "    if not title_match:\n",
    "      print(f\"skipping {slug}: <title> tag not found\")\n",
    "      continue\n",
    "\n",
    "    title_tag = title_match.group(1)\n",
    "\n",
    "    # og meta tags to insert\n",
    "    og_tags = (\n",
    "        '\\n'\n",
    "        f'\\n    <meta property=\"og:title\" content=\"{title}\" />'\n",
    "        f'\\n    <meta property=\"og:description\" content=\"{description}\" />'\n",
    "        f'\\n    <meta property=\"og:image\" content=\"{og_image_url}\" />'\n",
    "        '\\n'\n",
    "    )\n",
    "\n",
    "    # insert after <title>\n",
    "    new_content = content.replace(title_tag, title_tag + og_tags, 1)\n",
    "\n",
    "    if modify_files:\n",
    "      # overwrite original index.html\n",
    "      f = open(index_path, 'w', encoding='utf-8')\n",
    "      f.write(new_content)\n",
    "      f.close()\n",
    "      print(f\"og meta tags added to {slug}/index.html\")\n",
    "    else:\n",
    "      # prepare preview content\n",
    "      preview_content.append(f\"--- preview for {slug}/index.html ---\\n{new_content}\\n\\n\")\n",
    "      print(f\"preview generated for {slug}/index.html\")\n",
    "\n",
    "  # write preview file only if content exists and not modifying files\n",
    "  if not modify_files and preview_content:\n",
    "    preview_file_path = os.path.join(os.getcwd(), \"og_meta_preview.txt\")\n",
    "    f = open(preview_file_path, 'w', encoding='utf-8')\n",
    "    f.writelines(preview_content)\n",
    "    f.close()\n",
    "    print(f\"\\npreview of all changes written to: {preview_file_path}\")"
   ]
  },
  {
   "cell_type": "code",
   "execution_count": 14,
   "id": "f2e0667f",
   "metadata": {},
   "outputs": [
    {
     "name": "stdout",
     "output_type": "stream",
     "text": [
      "skipping yt-cc-extractor: og meta title already exists\n",
      "skipping loan-calculator: og meta title already exists\n",
      "skipping testimonials: og meta title already exists\n",
      "skipping image-search-app-2: og meta title already exists\n",
      "skipping image-search-app: og meta title already exists\n",
      "skipping rem-vs-px: og meta title already exists\n",
      "skipping array-methods: og meta title already exists\n",
      "skipping wa-layout: og meta title already exists\n",
      "skipping flexbox-demo: og meta title already exists\n",
      "skipping cgpa-calculator-2: og meta title already exists\n",
      "skipping cgpa-calculator: og meta title already exists\n",
      "skipping calculator: og meta title already exists\n"
     ]
    }
   ],
   "source": [
    "add_og_meta_tags(\n",
    "    json_file_path=\"../assets/projects_data.json\",\n",
    "    project_root=\"../\",\n",
    "    modify_files=True\n",
    ")"
   ]
  }
 ],
 "metadata": {
  "kernelspec": {
   "display_name": "Python 3",
   "language": "python",
   "name": "python3"
  },
  "language_info": {
   "codemirror_mode": {
    "name": "ipython",
    "version": 3
   },
   "file_extension": ".py",
   "mimetype": "text/x-python",
   "name": "python",
   "nbconvert_exporter": "python",
   "pygments_lexer": "ipython3",
   "version": "3.13.3"
  }
 },
 "nbformat": 4,
 "nbformat_minor": 5
}
